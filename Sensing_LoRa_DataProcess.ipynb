{
 "cells": [
  {
   "cell_type": "code",
   "execution_count": 2,
   "id": "3202ec29",
   "metadata": {},
   "outputs": [],
   "source": [
    "import Launch_simu as ls\n",
    "import numpy as np\n",
    "import matplotlib.pyplot as plt\n",
    "import importlib\n"
   ]
  },
  {
   "cell_type": "code",
   "execution_count": 4,
   "id": "eee575cd",
   "metadata": {},
   "outputs": [],
   "source": [
    "maxPktPerHour    = 50\n",
    "stepPktPerHour   = 5\n",
    "uniquePktPerHour = 10\n",
    "\n",
    "maxSensingRadius  = 150\n",
    "stepSensingRadius = 10\n",
    "minSensingRadius  = 10\n",
    "\n",
    "simulationTime = 3600\n",
    "periodSenderUnique = 100\n",
    "runs = 5\n",
    "\n",
    "pktPerHour   = np.arange(1, maxPktPerHour, step= stepPktPerHour, dtype='float')\n",
    "periodSender = 3600/pktPerHour\n",
    "periodSenderU= 3600/uniquePktPerHour\n",
    "\n",
    "SensingRadius= np.arange(minSensingRadius, maxSensingRadius, step= stepSensingRadius, dtype='float')\n",
    "\n",
    "params = {\n",
    "    'sensing_radius': [SensingRadius],\n",
    "    'simulationTime': [simulationTime],#♣[round(i, 4) for i in periodSender],\n",
    "    'radius': [1500],\n",
    "    'appPeriod': [pktPerHour], #lambda p: [\"aloha\"] if p[\"radius\"] == 0 else [\"goursaud\"],\n",
    "    'logProfile': [0],\n",
    "    'packetSize': [50],\n",
    "    'maxReceptionPaths': [8],\n",
    "}\n",
    "\n",
    "Result_FileName = 'Test-sensing-LoRa-PktPerHour'\n",
    "script = ['SensingGridLoRa','SensingGridLoRaPoisson']\n",
    "get_AllRun=True"
   ]
  },
  {
   "cell_type": "code",
   "execution_count": 51,
   "id": "ffa7d121",
   "metadata": {},
   "outputs": [
    {
     "name": "stdout",
     "output_type": "stream",
     "text": [
      "The script for the simulation is : /build/src/lorawan/examples/ns3-dev-SensingGridLoRaPoisson-optimized\n",
      "Number of CPU on this machine   : 24\n",
      "Number of CPU that will be used : 12\n"
     ]
    },
    {
     "name": "stderr",
     "output_type": "stream",
     "text": [
      "Running sim.: 100%|██████████| 700/700 [02:48<00:00,  4.16sim./s]"
     ]
    },
    {
     "name": "stdout",
     "output_type": "stream",
     "text": [
      "Execution time of the simulations is 168.47 [s]\n"
     ]
    },
    {
     "name": "stderr",
     "output_type": "stream",
     "text": [
      "\n"
     ]
    }
   ],
   "source": [
    "importlib.reload(ls)\n",
    "ls.launch_simu(script[1], \n",
    "            params, \n",
    "            Result_FileName, \n",
    "            result_Header = 7,\n",
    "            runs=runs, \n",
    "            optimized= True,\n",
    "            show_progess=True,\n",
    "            get_AllRun=get_AllRun,\n",
    "            max_processes= 12,\n",
    "            )"
   ]
  },
  {
   "cell_type": "code",
   "execution_count": 5,
   "id": "303fb6aa",
   "metadata": {},
   "outputs": [
    {
     "ename": "ValueError",
     "evalue": "cannot reshape array of size 4900 into shape (14,1,1,10,1,1,1,7)",
     "output_type": "error",
     "traceback": [
      "\u001b[0;31m---------------------------------------------------------------------------\u001b[0m",
      "\u001b[0;31mValueError\u001b[0m                                Traceback (most recent call last)",
      "\u001b[0;32m<ipython-input-5-794a4130ee68>\u001b[0m in \u001b[0;36m<module>\u001b[0;34m\u001b[0m\n\u001b[1;32m      1\u001b[0m \u001b[0mResult_FileName_ToProcess\u001b[0m \u001b[0;34m=\u001b[0m \u001b[0mResult_FileName\u001b[0m\u001b[0;34m\u001b[0m\u001b[0m\n\u001b[0;32m----> 2\u001b[0;31m \u001b[0mparams_values\u001b[0m\u001b[0;34m,\u001b[0m \u001b[0mResults\u001b[0m \u001b[0;34m=\u001b[0m \u001b[0mls\u001b[0m\u001b[0;34m.\u001b[0m\u001b[0mget_Results\u001b[0m\u001b[0;34m(\u001b[0m\u001b[0mparams\u001b[0m\u001b[0;34m,\u001b[0m\u001b[0mResult_FileName_ToProcess\u001b[0m\u001b[0;34m,\u001b[0m\u001b[0mget_AllRun\u001b[0m\u001b[0;34m=\u001b[0m\u001b[0mget_AllRun\u001b[0m\u001b[0;34m)\u001b[0m\u001b[0;34m\u001b[0m\u001b[0m\n\u001b[0m\u001b[1;32m      3\u001b[0m \u001b[0mprint\u001b[0m\u001b[0;34m(\u001b[0m\u001b[0mnp\u001b[0m\u001b[0;34m.\u001b[0m\u001b[0mshape\u001b[0m\u001b[0;34m(\u001b[0m\u001b[0mResults\u001b[0m\u001b[0;34m)\u001b[0m\u001b[0;34m)\u001b[0m\u001b[0;34m\u001b[0m\u001b[0m\n",
      "\u001b[0;32m/linux/maistriauxp/ns-3-dev-git/Launch_simu.py\u001b[0m in \u001b[0;36mget_Results\u001b[0;34m(params, result_Filename, get_AllRun)\u001b[0m\n\u001b[1;32m    227\u001b[0m     \u001b[0mResults_np\u001b[0m \u001b[0;34m=\u001b[0m \u001b[0mResults_df\u001b[0m\u001b[0;34m.\u001b[0m\u001b[0mto_numpy\u001b[0m\u001b[0;34m(\u001b[0m\u001b[0;34m)\u001b[0m\u001b[0;34m\u001b[0m\u001b[0m\n\u001b[1;32m    228\u001b[0m     \u001b[0mshape_Res\u001b[0m \u001b[0;34m=\u001b[0m \u001b[0mshape_Res\u001b[0m \u001b[0;34m+\u001b[0m \u001b[0;34m[\u001b[0m\u001b[0mlen\u001b[0m\u001b[0;34m(\u001b[0m\u001b[0mResults_np\u001b[0m\u001b[0;34m[\u001b[0m\u001b[0;36m0\u001b[0m\u001b[0;34m]\u001b[0m\u001b[0;34m)\u001b[0m\u001b[0;34m]\u001b[0m\u001b[0;34m\u001b[0m\u001b[0m\n\u001b[0;32m--> 229\u001b[0;31m     \u001b[0mResults_re\u001b[0m \u001b[0;34m=\u001b[0m \u001b[0mnp\u001b[0m\u001b[0;34m.\u001b[0m\u001b[0mreshape\u001b[0m\u001b[0;34m(\u001b[0m\u001b[0mResults_np\u001b[0m\u001b[0;34m,\u001b[0m\u001b[0mshape_Res\u001b[0m\u001b[0;34m)\u001b[0m\u001b[0;34m\u001b[0m\u001b[0m\n\u001b[0m\u001b[1;32m    230\u001b[0m \u001b[0;34m\u001b[0m\u001b[0m\n\u001b[1;32m    231\u001b[0m     \u001b[0;32mreturn\u001b[0m \u001b[0mparams_values\u001b[0m\u001b[0;34m,\u001b[0m \u001b[0mResults_re\u001b[0m\u001b[0;34m\u001b[0m\u001b[0m\n",
      "\u001b[0;32m<__array_function__ internals>\u001b[0m in \u001b[0;36mreshape\u001b[0;34m(*args, **kwargs)\u001b[0m\n",
      "\u001b[0;32m/linux/maistriauxp/env/lib/python3.6/site-packages/numpy/core/fromnumeric.py\u001b[0m in \u001b[0;36mreshape\u001b[0;34m(a, newshape, order)\u001b[0m\n\u001b[1;32m    297\u001b[0m            [5, 6]])\n\u001b[1;32m    298\u001b[0m     \"\"\"\n\u001b[0;32m--> 299\u001b[0;31m     \u001b[0;32mreturn\u001b[0m \u001b[0m_wrapfunc\u001b[0m\u001b[0;34m(\u001b[0m\u001b[0ma\u001b[0m\u001b[0;34m,\u001b[0m \u001b[0;34m'reshape'\u001b[0m\u001b[0;34m,\u001b[0m \u001b[0mnewshape\u001b[0m\u001b[0;34m,\u001b[0m \u001b[0morder\u001b[0m\u001b[0;34m=\u001b[0m\u001b[0morder\u001b[0m\u001b[0;34m)\u001b[0m\u001b[0;34m\u001b[0m\u001b[0m\n\u001b[0m\u001b[1;32m    300\u001b[0m \u001b[0;34m\u001b[0m\u001b[0m\n\u001b[1;32m    301\u001b[0m \u001b[0;34m\u001b[0m\u001b[0m\n",
      "\u001b[0;32m/linux/maistriauxp/env/lib/python3.6/site-packages/numpy/core/fromnumeric.py\u001b[0m in \u001b[0;36m_wrapfunc\u001b[0;34m(obj, method, *args, **kwds)\u001b[0m\n\u001b[1;32m     56\u001b[0m \u001b[0;34m\u001b[0m\u001b[0m\n\u001b[1;32m     57\u001b[0m     \u001b[0;32mtry\u001b[0m\u001b[0;34m:\u001b[0m\u001b[0;34m\u001b[0m\u001b[0m\n\u001b[0;32m---> 58\u001b[0;31m         \u001b[0;32mreturn\u001b[0m \u001b[0mbound\u001b[0m\u001b[0;34m(\u001b[0m\u001b[0;34m*\u001b[0m\u001b[0margs\u001b[0m\u001b[0;34m,\u001b[0m \u001b[0;34m**\u001b[0m\u001b[0mkwds\u001b[0m\u001b[0;34m)\u001b[0m\u001b[0;34m\u001b[0m\u001b[0m\n\u001b[0m\u001b[1;32m     59\u001b[0m     \u001b[0;32mexcept\u001b[0m \u001b[0mTypeError\u001b[0m\u001b[0;34m:\u001b[0m\u001b[0;34m\u001b[0m\u001b[0m\n\u001b[1;32m     60\u001b[0m         \u001b[0;31m# A TypeError occurs if the object does have such a method in its\u001b[0m\u001b[0;34m\u001b[0m\u001b[0;34m\u001b[0m\u001b[0m\n",
      "\u001b[0;31mValueError\u001b[0m: cannot reshape array of size 4900 into shape (14,1,1,10,1,1,1,7)"
     ]
    }
   ],
   "source": [
    "Result_FileName_ToProcess = Result_FileName\n",
    "params_values, Results = ls.get_Results(params,Result_FileName_ToProcess,get_AllRun=get_AllRun)\n",
    "print(np.shape(Results))"
   ]
  },
  {
   "cell_type": "code",
   "execution_count": 56,
   "id": "43270b5f",
   "metadata": {},
   "outputs": [
    {
     "name": "stdout",
     "output_type": "stream",
     "text": [
      "True\n"
     ]
    }
   ],
   "source": [
    "print(get_AllRun)"
   ]
  },
  {
   "cell_type": "code",
   "execution_count": 1,
   "id": "4096b373",
   "metadata": {},
   "outputs": [
    {
     "ename": "NameError",
     "evalue": "name 'get_AllRun' is not defined",
     "output_type": "error",
     "traceback": [
      "\u001b[0;31m---------------------------------------------------------------------------\u001b[0m",
      "\u001b[0;31mNameError\u001b[0m                                 Traceback (most recent call last)",
      "\u001b[0;32m<ipython-input-1-473ff5fadbf7>\u001b[0m in \u001b[0;36m<module>\u001b[0;34m\u001b[0m\n\u001b[0;32m----> 1\u001b[0;31m \u001b[0;32mif\u001b[0m \u001b[0mget_AllRun\u001b[0m \u001b[0;34m:\u001b[0m\u001b[0;34m\u001b[0m\u001b[0m\n\u001b[0m\u001b[1;32m      2\u001b[0m     \u001b[0mn\u001b[0m          \u001b[0;34m=\u001b[0m \u001b[0mnp\u001b[0m\u001b[0;34m.\u001b[0m\u001b[0mmean\u001b[0m\u001b[0;34m(\u001b[0m\u001b[0mResults\u001b[0m\u001b[0;34m[\u001b[0m\u001b[0;34m:\u001b[0m\u001b[0;34m,\u001b[0m\u001b[0;36m0\u001b[0m\u001b[0;34m,\u001b[0m\u001b[0;36m0\u001b[0m\u001b[0;34m,\u001b[0m\u001b[0;34m:\u001b[0m\u001b[0;34m,\u001b[0m\u001b[0;36m0\u001b[0m\u001b[0;34m,\u001b[0m\u001b[0;36m0\u001b[0m\u001b[0;34m,\u001b[0m\u001b[0;36m0\u001b[0m\u001b[0;34m,\u001b[0m\u001b[0;34m:\u001b[0m\u001b[0;34m,\u001b[0m\u001b[0;36m0\u001b[0m\u001b[0;34m]\u001b[0m\u001b[0;34m,\u001b[0m\u001b[0maxis\u001b[0m\u001b[0;34m=\u001b[0m\u001b[0;36m2\u001b[0m\u001b[0;34m)\u001b[0m\u001b[0;34m\u001b[0m\u001b[0m\n\u001b[1;32m      3\u001b[0m     \u001b[0mpktApp\u001b[0m     \u001b[0;34m=\u001b[0m \u001b[0mnp\u001b[0m\u001b[0;34m.\u001b[0m\u001b[0mmean\u001b[0m\u001b[0;34m(\u001b[0m\u001b[0mResults\u001b[0m\u001b[0;34m[\u001b[0m\u001b[0;34m:\u001b[0m\u001b[0;34m,\u001b[0m\u001b[0;36m0\u001b[0m\u001b[0;34m,\u001b[0m\u001b[0;36m0\u001b[0m\u001b[0;34m,\u001b[0m\u001b[0;34m:\u001b[0m\u001b[0;34m,\u001b[0m\u001b[0;36m0\u001b[0m\u001b[0;34m,\u001b[0m\u001b[0;36m0\u001b[0m\u001b[0;34m,\u001b[0m\u001b[0;36m0\u001b[0m\u001b[0;34m,\u001b[0m\u001b[0;34m:\u001b[0m\u001b[0;34m,\u001b[0m\u001b[0;36m1\u001b[0m\u001b[0;34m]\u001b[0m\u001b[0;34m,\u001b[0m\u001b[0maxis\u001b[0m\u001b[0;34m=\u001b[0m\u001b[0;36m2\u001b[0m\u001b[0;34m)\u001b[0m\u001b[0;34m\u001b[0m\u001b[0m\n\u001b[1;32m      4\u001b[0m     \u001b[0mpktDuty\u001b[0m    \u001b[0;34m=\u001b[0m \u001b[0mnp\u001b[0m\u001b[0;34m.\u001b[0m\u001b[0mmean\u001b[0m\u001b[0;34m(\u001b[0m\u001b[0mResults\u001b[0m\u001b[0;34m[\u001b[0m\u001b[0;34m:\u001b[0m\u001b[0;34m,\u001b[0m\u001b[0;36m0\u001b[0m\u001b[0;34m,\u001b[0m\u001b[0;36m0\u001b[0m\u001b[0;34m,\u001b[0m\u001b[0;34m:\u001b[0m\u001b[0;34m,\u001b[0m\u001b[0;36m0\u001b[0m\u001b[0;34m,\u001b[0m\u001b[0;36m0\u001b[0m\u001b[0;34m,\u001b[0m\u001b[0;36m0\u001b[0m\u001b[0;34m,\u001b[0m\u001b[0;34m:\u001b[0m\u001b[0;34m,\u001b[0m\u001b[0;36m2\u001b[0m\u001b[0;34m]\u001b[0m\u001b[0;34m,\u001b[0m\u001b[0maxis\u001b[0m\u001b[0;34m=\u001b[0m\u001b[0;36m2\u001b[0m\u001b[0;34m)\u001b[0m\u001b[0;34m\u001b[0m\u001b[0m\n\u001b[1;32m      5\u001b[0m     \u001b[0mpktSentP\u001b[0m   \u001b[0;34m=\u001b[0m \u001b[0mnp\u001b[0m\u001b[0;34m.\u001b[0m\u001b[0mmean\u001b[0m\u001b[0;34m(\u001b[0m\u001b[0mResults\u001b[0m\u001b[0;34m[\u001b[0m\u001b[0;34m:\u001b[0m\u001b[0;34m,\u001b[0m\u001b[0;36m0\u001b[0m\u001b[0;34m,\u001b[0m\u001b[0;36m0\u001b[0m\u001b[0;34m,\u001b[0m\u001b[0;34m:\u001b[0m\u001b[0;34m,\u001b[0m\u001b[0;36m0\u001b[0m\u001b[0;34m,\u001b[0m\u001b[0;36m0\u001b[0m\u001b[0;34m,\u001b[0m\u001b[0;36m0\u001b[0m\u001b[0;34m,\u001b[0m\u001b[0;34m:\u001b[0m\u001b[0;34m,\u001b[0m\u001b[0;36m3\u001b[0m\u001b[0;34m]\u001b[0m\u001b[0;34m,\u001b[0m\u001b[0maxis\u001b[0m\u001b[0;34m=\u001b[0m\u001b[0;36m2\u001b[0m\u001b[0;34m)\u001b[0m\u001b[0;34m\u001b[0m\u001b[0m\n",
      "\u001b[0;31mNameError\u001b[0m: name 'get_AllRun' is not defined"
     ]
    }
   ],
   "source": [
    "if get_AllRun : \n",
    "    n          = np.mean(Results[:,0,0,:,0,0,0,:,0],axis=2) \n",
    "    pktApp     = np.mean(Results[:,0,0,:,0,0,0,:,1],axis=2)\n",
    "    pktDuty    = np.mean(Results[:,0,0,:,0,0,0,:,2],axis=2)\n",
    "    pktSentP   = np.mean(Results[:,0,0,:,0,0,0,:,3],axis=2)\n",
    "    pktNoDemod = np.mean(Results[:,0,0,:,0,0,0,:,4],axis=2)\n",
    "    pktInterf  = np.mean(Results[:,0,0,:,0,0,0,:,5],axis=2)\n",
    "    pktRecP    = np.mean(Results[:,0,0,:,0,0,0,:,6],axis=2)\n",
    "else:\n",
    "    n          = Results[:,0,0,:,0,0,0,0] \n",
    "    pktApp     = Results[:,0,0,:,0,0,0,1]\n",
    "    pktDuty    = Results[:,0,0,:,0,0,0,2]\n",
    "    pktSentP   = Results[:,0,0,:,0,0,0,3]\n",
    "    pktNoDemod = Results[:,0,0,:,0,0,0,4]\n",
    "    pktInterf  = Results[:,0,0,:,0,0,0,5]\n",
    "    pktRecP    = Results[:,0,0,:,0,0,0,6]\n",
    "\n",
    "fig, ax1 = plt.subplots(figsize=(15,9))\n",
    "ax1.set_xlabel('Lambda [pkt/h]')\n",
    "ax1.set_ylabel('Packet loss ratio at the network scale [%]')\n",
    "for q in range(len(SensingRadius)):\n",
    "    ax1.plot(pktPerHour,pktRecP[q,:]/pktSentP[q,:],  label = \"SensingRadius= \"+str(SensingRadius[q]))\n",
    "ax1.grid()\n",
    "ax1.grid()\n",
    "ax1.tick_params(axis='y')\n",
    "fig.legend()\n",
    "plt.show()\n",
    "\n",
    "fig, ax1 = plt.subplots(figsize=(15,9))\n",
    "ax1.set_xlabel('Sensing radius [m]')\n",
    "ax1.set_ylabel('Packet loss ratio at the network scale [%]')\n",
    "for q in range(len(pktPerHour)):\n",
    "    ax1.plot(SensingRadius,pktRecP[:,q]/pktSentP[:,q],  label = \"Lambda= \"+str(pktPerHour[q]))\n",
    "ax1.grid()\n",
    "ax1.grid()\n",
    "ax1.tick_params(axis='y')\n",
    "fig.legend()\n",
    "plt.show()"
   ]
  },
  {
   "cell_type": "code",
   "execution_count": null,
   "metadata": {},
   "outputs": [],
   "source": [
    "if get_AllRun : \n",
    "    n          = np.mean(Results[:,0,0,0,0,0,0,:,0],axis=1) \n",
    "    pktApp     = np.mean(Results[:,0,0,0,0,0,0,:,1],axis=1)\n",
    "    pktDuty    = np.mean(Results[:,0,0,0,0,0,0,:,2],axis=1)\n",
    "    pktSentP   = np.mean(Results[:,0,0,0,0,0,0,:,3],axis=1)\n",
    "    pktNoDemod = np.mean(Results[:,0,0,0,0,0,0,:,4],axis=1)\n",
    "    pktInterf  = np.mean(Results[:,0,0,0,0,0,0,:,5],axis=1)\n",
    "    pktRecP    = np.mean(Results[:,0,0,0,0,0,0,:,6],axis=1)\n",
    "else:\n",
    "    n          = Results[:,0,0,0,0,0,0,0] \n",
    "    pktApp     = Results[:,0,0,0,0,0,0,1]\n",
    "    pktDuty    = Results[:,0,0,0,0,0,0,2]\n",
    "    pktSentP   = Results[:,0,0,0,0,0,0,3]\n",
    "    pktNoDemod = Results[:,0,0,0,0,0,0,4]\n",
    "    pktInterf  = Results[:,0,0,0,0,0,0,5]\n",
    "    pktRecP    = Results[:,0,0,0,0,0,0,6]\n",
    "\n",
    "fig, ax1 = plt.subplots(figsize=(20,12))\n",
    "color = 'tab:blue'\n",
    "ax1.set_xlabel('Sensing radius [m]')\n",
    "ax1.set_ylabel('Number of nodes', color=color)  # we already handled the x-label with ax1\n",
    "ax1.plot(SensingRadius,n,color = color, label = \"Number of nodes\")\n",
    "ax1.tick_params(axis='y', labelcolor=color)\n",
    "\n",
    "ax2 = ax1.twinx()  # instantiate a second axes that shares the same x-axis\n",
    "\n",
    "color = 'tab:red'\n",
    "ax2.set_ylabel('Number of packets received', color=color)\n",
    "ax2.plot(SensingRadius,pktRecP/pktSentP,color = color,  label = \"Number of packets received\")\n",
    "ax2.tick_params(axis='y', labelcolor=color)\n",
    "fig.legend()\n",
    "plt.show()"
   ]
  },
  {
   "cell_type": "code",
   "execution_count": 42,
   "id": "21529017",
   "metadata": {},
   "outputs": [
    {
     "data": {
      "image/png": "[encoded data removed]",
      "text/plain": [
       "<Figure size 1440x864 with 1 Axes>"
      ]
     },
     "metadata": {
      "needs_background": "light"
     },
     "output_type": "display_data"
    },
    {
     "name": "stdout",
     "output_type": "stream",
     "text": [
      "[ 125.    724.48 1311.24 1907.8  2492.88 3070.   3650.32 4224.92 4791.52\n",
      " 5349.56]\n",
      "[ 124.84  713.76 1275.   1832.24 2363.72 2875.04 3378.16 3862.08 4324.6\n",
      " 4769.44]\n",
      "[1.6000e-01 1.0720e+01 3.6240e+01 7.5560e+01 1.2916e+02 1.9496e+02\n",
      " 2.7216e+02 3.6284e+02 4.6692e+02 5.8012e+02]\n"
     ]
    }
   ],
   "source": [
    "if get_AllRun : \n",
    "    n          = np.mean(Results[0,0,0,:,0,0,0,:,0],axis=1) \n",
    "    pktApp     = np.mean(Results[0,0,0,:,0,0,0,:,1],axis=1)\n",
    "    pktDuty    = np.mean(Results[0,0,0,:,0,0,0,:,2],axis=1)\n",
    "    pktSentP   = np.mean(Results[0,0,0,:,0,0,0,:,3],axis=1)\n",
    "    pktNoDemod = np.mean(Results[0,0,0,:,0,0,0,:,4],axis=1)\n",
    "    pktInterf  = np.mean(Results[0,0,0,:,0,0,0,:,5],axis=1)\n",
    "    pktRecP    = np.mean(Results[0,0,0,:,0,0,0,:,6],axis=1)\n",
    "else:\n",
    "    n          = Results[0,0,0,:,0,0,0,0] \n",
    "    pktApp     = Results[0,0,0,:,0,0,0,1]\n",
    "    pktDuty    = Results[0,0,0,:,0,0,0,2]\n",
    "    pktSentP   = Results[0,0,0,:,0,0,0,3]\n",
    "    pktNoDemod = Results[0,0,0,:,0,0,0,4]\n",
    "    pktInterf  = Results[0,0,0,:,0,0,0,5]\n",
    "    pktRecP    = Results[0,0,0,:,0,0,0,6]\n",
    "\n",
    "fig, ax1 = plt.subplots(figsize=(20,12))\n",
    "\n",
    "color = 'tab:red'\n",
    "ax1.set_ylabel('Number of packets received')\n",
    "ax1.plot(pktPerHour,pktSentP,color = color,  label = \"Number of packets received\")\n",
    "ax1.tick_params(axis='y')\n",
    "fig.legend()\n",
    "plt.show()\n",
    "print(pktSentP)\n",
    "print(pktRecP)\n",
    "print(pktInterf)"
   ]
  }
 ],
 "metadata": {
  "kernelspec": {
   "display_name": "Ns3",
   "language": "python",
   "name": "ns3"
  },
  "language_info": {
   "codemirror_mode": {
    "name": "ipython",
    "version": 3
   },
   "file_extension": ".py",
   "mimetype": "text/x-python",
   "name": "python",
   "nbconvert_exporter": "python",
   "pygments_lexer": "ipython3",
   "version": "3.6.6"
  }
 },
 "nbformat": 4,
 "nbformat_minor": 5
}
